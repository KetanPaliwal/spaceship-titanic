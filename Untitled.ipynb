{
 "cells": [
  {
   "cell_type": "code",
   "execution_count": 1,
   "id": "88f17bce",
   "metadata": {},
   "outputs": [],
   "source": [
    "import numpy as np\n",
    "import pandas as pd\n",
    "\n",
    "import matplotlib.pyplot as plt\n",
    "import seaborn as sns"
   ]
  },
  {
   "cell_type": "markdown",
   "id": "f6a0471c",
   "metadata": {},
   "source": [
    "## Loading the Data"
   ]
  },
  {
   "cell_type": "code",
   "execution_count": 2,
   "id": "3807a2c6",
   "metadata": {},
   "outputs": [],
   "source": [
    "train = pd.read_csv('train.csv')\n",
    "test = pd.read_csv('test.csv')\n",
    "\n",
    "test_id = test['PassengerId']"
   ]
  },
  {
   "cell_type": "code",
   "execution_count": 3,
   "id": "9f433950",
   "metadata": {},
   "outputs": [],
   "source": [
    "# transforming True/False to 1/0 format\n",
    "\n",
    "def f0t1(data, cols):\n",
    "    for i in cols:\n",
    "        data[i] = data[i].apply(lambda x: 1 if x else 0)\n",
    "    return data\n",
    "\n",
    "train = f0t1(train, ['CryoSleep', 'VIP', 'Transported'])\n",
    "test = f0t1(test, ['CryoSleep', 'VIP'])"
   ]
  },
  {
   "cell_type": "code",
   "execution_count": 4,
   "id": "627af3e1",
   "metadata": {},
   "outputs": [],
   "source": [
    "data = pd.concat([train, test], ignore_index=True)\n",
    "data.drop(columns=['Transported'], inplace=True)"
   ]
  },
  {
   "cell_type": "code",
   "execution_count": 5,
   "id": "dac1053c",
   "metadata": {},
   "outputs": [
    {
     "data": {
      "text/html": [
       "<div>\n",
       "<style scoped>\n",
       "    .dataframe tbody tr th:only-of-type {\n",
       "        vertical-align: middle;\n",
       "    }\n",
       "\n",
       "    .dataframe tbody tr th {\n",
       "        vertical-align: top;\n",
       "    }\n",
       "\n",
       "    .dataframe thead th {\n",
       "        text-align: right;\n",
       "    }\n",
       "</style>\n",
       "<table border=\"1\" class=\"dataframe\">\n",
       "  <thead>\n",
       "    <tr style=\"text-align: right;\">\n",
       "      <th></th>\n",
       "      <th>PassengerId</th>\n",
       "      <th>HomePlanet</th>\n",
       "      <th>CryoSleep</th>\n",
       "      <th>Cabin</th>\n",
       "      <th>Destination</th>\n",
       "      <th>Age</th>\n",
       "      <th>VIP</th>\n",
       "      <th>RoomService</th>\n",
       "      <th>FoodCourt</th>\n",
       "      <th>ShoppingMall</th>\n",
       "      <th>Spa</th>\n",
       "      <th>VRDeck</th>\n",
       "      <th>Name</th>\n",
       "    </tr>\n",
       "  </thead>\n",
       "  <tbody>\n",
       "    <tr>\n",
       "      <th>0</th>\n",
       "      <td>0001_01</td>\n",
       "      <td>Europa</td>\n",
       "      <td>0</td>\n",
       "      <td>B/0/P</td>\n",
       "      <td>TRAPPIST-1e</td>\n",
       "      <td>39.0</td>\n",
       "      <td>0</td>\n",
       "      <td>0.0</td>\n",
       "      <td>0.0</td>\n",
       "      <td>0.0</td>\n",
       "      <td>0.0</td>\n",
       "      <td>0.0</td>\n",
       "      <td>Maham Ofracculy</td>\n",
       "    </tr>\n",
       "    <tr>\n",
       "      <th>1</th>\n",
       "      <td>0002_01</td>\n",
       "      <td>Earth</td>\n",
       "      <td>0</td>\n",
       "      <td>F/0/S</td>\n",
       "      <td>TRAPPIST-1e</td>\n",
       "      <td>24.0</td>\n",
       "      <td>0</td>\n",
       "      <td>109.0</td>\n",
       "      <td>9.0</td>\n",
       "      <td>25.0</td>\n",
       "      <td>549.0</td>\n",
       "      <td>44.0</td>\n",
       "      <td>Juanna Vines</td>\n",
       "    </tr>\n",
       "    <tr>\n",
       "      <th>2</th>\n",
       "      <td>0003_01</td>\n",
       "      <td>Europa</td>\n",
       "      <td>0</td>\n",
       "      <td>A/0/S</td>\n",
       "      <td>TRAPPIST-1e</td>\n",
       "      <td>58.0</td>\n",
       "      <td>1</td>\n",
       "      <td>43.0</td>\n",
       "      <td>3576.0</td>\n",
       "      <td>0.0</td>\n",
       "      <td>6715.0</td>\n",
       "      <td>49.0</td>\n",
       "      <td>Altark Susent</td>\n",
       "    </tr>\n",
       "    <tr>\n",
       "      <th>3</th>\n",
       "      <td>0003_02</td>\n",
       "      <td>Europa</td>\n",
       "      <td>0</td>\n",
       "      <td>A/0/S</td>\n",
       "      <td>TRAPPIST-1e</td>\n",
       "      <td>33.0</td>\n",
       "      <td>0</td>\n",
       "      <td>0.0</td>\n",
       "      <td>1283.0</td>\n",
       "      <td>371.0</td>\n",
       "      <td>3329.0</td>\n",
       "      <td>193.0</td>\n",
       "      <td>Solam Susent</td>\n",
       "    </tr>\n",
       "    <tr>\n",
       "      <th>4</th>\n",
       "      <td>0004_01</td>\n",
       "      <td>Earth</td>\n",
       "      <td>0</td>\n",
       "      <td>F/1/S</td>\n",
       "      <td>TRAPPIST-1e</td>\n",
       "      <td>16.0</td>\n",
       "      <td>0</td>\n",
       "      <td>303.0</td>\n",
       "      <td>70.0</td>\n",
       "      <td>151.0</td>\n",
       "      <td>565.0</td>\n",
       "      <td>2.0</td>\n",
       "      <td>Willy Santantines</td>\n",
       "    </tr>\n",
       "  </tbody>\n",
       "</table>\n",
       "</div>"
      ],
      "text/plain": [
       "  PassengerId HomePlanet  CryoSleep  Cabin  Destination   Age  VIP  \\\n",
       "0     0001_01     Europa          0  B/0/P  TRAPPIST-1e  39.0    0   \n",
       "1     0002_01      Earth          0  F/0/S  TRAPPIST-1e  24.0    0   \n",
       "2     0003_01     Europa          0  A/0/S  TRAPPIST-1e  58.0    1   \n",
       "3     0003_02     Europa          0  A/0/S  TRAPPIST-1e  33.0    0   \n",
       "4     0004_01      Earth          0  F/1/S  TRAPPIST-1e  16.0    0   \n",
       "\n",
       "   RoomService  FoodCourt  ShoppingMall     Spa  VRDeck               Name  \n",
       "0          0.0        0.0           0.0     0.0     0.0    Maham Ofracculy  \n",
       "1        109.0        9.0          25.0   549.0    44.0       Juanna Vines  \n",
       "2         43.0     3576.0           0.0  6715.0    49.0      Altark Susent  \n",
       "3          0.0     1283.0         371.0  3329.0   193.0       Solam Susent  \n",
       "4        303.0       70.0         151.0   565.0     2.0  Willy Santantines  "
      ]
     },
     "execution_count": 5,
     "metadata": {},
     "output_type": "execute_result"
    }
   ],
   "source": [
    "data.head()"
   ]
  },
  {
   "cell_type": "markdown",
   "id": "e7a3e1c2",
   "metadata": {},
   "source": [
    "### Feature descriptions:\n",
    "\n",
    "* **PassengerId** - A unique Id for each passenger. Each Id takes the form gggg_pp where gggg indicates a group the passenger is travelling with and pp is their number within the group. People in a group are often family members, but not always.\n",
    "* **HomePlanet** - The planet the passenger departed from, typically their planet of permanent residence.\n",
    "* **CryoSleep** - Indicates whether the passenger elected to be put into suspended animation for the duration of the voyage. Passengers in cryosleep are confined to their cabins.\n",
    "* **Cabin** - The cabin number where the passenger is staying. Takes the form deck/num/side, where side can be either P for Port or S for Starboard.\n",
    "* **Destination** - The planet the passenger will be debarking to.\n",
    "* **Age** - The age of the passenger.\n",
    "* **VIP** - Whether the passenger has paid for special VIP service during the voyage.\n",
    "* **RoomService, FoodCourt, ShoppingMall, Spa, VRDeck** - Amount the passenger has billed at each of the Spaceship Titanic's many luxury amenities.\n",
    "* **Name** - The first and last names of the passenger.\n",
    "* **Transported** - Whether the passenger was transported to another dimension. This is the target, the column you are trying to predict."
   ]
  },
  {
   "cell_type": "markdown",
   "id": "86c761ef",
   "metadata": {},
   "source": [
    "## EDA (Exploratory Data Analysis)"
   ]
  },
  {
   "cell_type": "code",
   "execution_count": 6,
   "id": "44a383ff",
   "metadata": {},
   "outputs": [
    {
     "data": {
      "image/png": "[encoded data removed]",
      "text/plain": [
       "<Figure size 432x288 with 1 Axes>"
      ]
     },
     "metadata": {
      "needs_background": "light"
     },
     "output_type": "display_data"
    }
   ],
   "source": [
    "sns.histplot(data=train, x='HomePlanet', hue='Transported').set(title='HomePlanet vs Transported')\n",
    "plt.show()"
   ]
  },
  {
   "cell_type": "code",
   "execution_count": 7,
   "id": "e22757c1",
   "metadata": {},
   "outputs": [
    {
     "data": {
      "image/png": "[encoded data removed]",
      "text/plain": [
       "<Figure size 432x288 with 1 Axes>"
      ]
     },
     "metadata": {
      "needs_background": "light"
     },
     "output_type": "display_data"
    }
   ],
   "source": [
    "sns.histplot(data=train, x='CryoSleep', hue='Transported').set(title='CryoSleep vs Transported')\n",
    "plt.show()"
   ]
  },
  {
   "cell_type": "code",
   "execution_count": 8,
   "id": "1f5d2750",
   "metadata": {},
   "outputs": [
    {
     "data": {
      "image/png": "[encoded data removed]",
      "text/plain": [
       "<Figure size 432x288 with 1 Axes>"
      ]
     },
     "metadata": {
      "needs_background": "light"
     },
     "output_type": "display_data"
    }
   ],
   "source": [
    "sns.histplot(data=train, x='Destination', hue='Transported').set(title='Destination vs Transported')\n",
    "plt.show()"
   ]
  },
  {
   "cell_type": "code",
   "execution_count": 9,
   "id": "2f1a8d3f",
   "metadata": {},
   "outputs": [
    {
     "data": {
      "image/png": "[encoded data removed]",
      "text/plain": [
       "<Figure size 432x288 with 1 Axes>"
      ]
     },
     "metadata": {
      "needs_background": "light"
     },
     "output_type": "display_data"
    },
    {
     "name": "stdout",
     "output_type": "stream",
     "text": [
      "Skewness: 0.41909658301471536\n"
     ]
    }
   ],
   "source": [
    "sns.histplot(data=train, x='Age', hue='Transported', kde=True).set(title='Age vs Transported')\n",
    "plt.show()\n",
    "print('Skewness:',train.Age.skew())"
   ]
  },
  {
   "cell_type": "markdown",
   "id": "9666174b",
   "metadata": {},
   "source": [
    "The **KDE line** of the plot clearly shows that the transported chance for minors(passengers less than 18 years of age) is greater than adults."
   ]
  },
  {
   "cell_type": "code",
   "execution_count": 10,
   "id": "b23eea82",
   "metadata": {},
   "outputs": [
    {
     "data": {
      "image/png": "[encoded data removed]",
      "text/plain": [
       "<Figure size 432x288 with 1 Axes>"
      ]
     },
     "metadata": {
      "needs_background": "light"
     },
     "output_type": "display_data"
    }
   ],
   "source": [
    "sns.histplot(data=train, x='VIP', hue='Transported').set(title='VIP vs Transported')\n",
    "plt.show()"
   ]
  },
  {
   "cell_type": "markdown",
   "id": "5bb0f11c",
   "metadata": {},
   "source": [
    "Since there are no clear indications which might help the prediction model to improve, **VIP column might be dropped**."
   ]
  },
  {
   "cell_type": "markdown",
   "id": "7b31fdf2",
   "metadata": {},
   "source": [
    "## Imputations"
   ]
  },
  {
   "cell_type": "code",
   "execution_count": 11,
   "id": "7d48790d",
   "metadata": {},
   "outputs": [
    {
     "data": {
      "text/plain": [
       "HomePlanet      288\n",
       "Cabin           299\n",
       "Destination     274\n",
       "Age             270\n",
       "RoomService     263\n",
       "FoodCourt       289\n",
       "ShoppingMall    306\n",
       "Spa             284\n",
       "VRDeck          268\n",
       "Name            294\n",
       "dtype: int64"
      ]
     },
     "execution_count": 11,
     "metadata": {},
     "output_type": "execute_result"
    }
   ],
   "source": [
    "data.isna().sum()[data.isna().sum()!=0]"
   ]
  },
  {
   "cell_type": "code",
   "execution_count": 12,
   "id": "661dfaba",
   "metadata": {},
   "outputs": [],
   "source": [
    "def imput(data):\n",
    "    \n",
    "    data.HomePlanet.fillna(data.HomePlanet.mode()[0], inplace=True)\n",
    "    \n",
    "    data.Cabin.fillna('None/-1/None', inplace=True)\n",
    "    \n",
    "    data.Destination.fillna(data.Destination.mode()[0], inplace=True)\n",
    "    \n",
    "    data.Age.fillna(data.Age.median(), inplace=True)\n",
    "    \n",
    "    data.RoomService.fillna(data.RoomService.median(), inplace=True)\n",
    "    \n",
    "    data.FoodCourt.fillna(data.FoodCourt.median(), inplace=True)\n",
    "    \n",
    "    data.ShoppingMall.fillna(data.ShoppingMall.median(), inplace=True)\n",
    "    \n",
    "    data.Spa.fillna(data.Spa.median(), inplace=True)\n",
    "    \n",
    "    data.VRDeck.fillna(data.VRDeck.median(), inplace=True)\n",
    "    \n",
    "    data.Name.fillna('Anonymous N/A', inplace=True)\n",
    "    \n",
    "    return data\n",
    "\n",
    "data = imput(data)\n",
    "\n",
    "# copying imputation changes back to train (will help in plotting)\n",
    "transported = train.Transported\n",
    "train = data[:len(train)].copy()\n",
    "train['Transported'] = transported"
   ]
  },
  {
   "cell_type": "code",
   "execution_count": 13,
   "id": "fa6b28cf",
   "metadata": {},
   "outputs": [
    {
     "data": {
      "text/plain": [
       "PassengerId     0\n",
       "HomePlanet      0\n",
       "CryoSleep       0\n",
       "Cabin           0\n",
       "Destination     0\n",
       "Age             0\n",
       "VIP             0\n",
       "RoomService     0\n",
       "FoodCourt       0\n",
       "ShoppingMall    0\n",
       "Spa             0\n",
       "VRDeck          0\n",
       "Name            0\n",
       "dtype: int64"
      ]
     },
     "execution_count": 13,
     "metadata": {},
     "output_type": "execute_result"
    }
   ],
   "source": [
    "data.isna().sum()"
   ]
  },
  {
   "cell_type": "markdown",
   "id": "205e8be4",
   "metadata": {},
   "source": [
    "## Feature Engineering"
   ]
  },
  {
   "cell_type": "markdown",
   "id": "f72985ea",
   "metadata": {},
   "source": [
    "### PassengerId - GroupSize/Solo Extraction (Group & Batch rejected for final model)"
   ]
  },
  {
   "cell_type": "code",
   "execution_count": 14,
   "id": "86bee5eb",
   "metadata": {},
   "outputs": [],
   "source": [
    "def group(data):\n",
    "    data['Group'] = data['PassengerId'].apply(lambda x: int(x.split('_')[0]))\n",
    "    temp = data.Group.value_counts()\n",
    "    \n",
    "    # GroupSize as the name suggests is the size of the group the passenger is a part of\n",
    "    data['GroupSize'] = data['Group'].apply(lambda x: temp[x])\n",
    "    \n",
    "    # If the Passenger is the single person in his/her group, he/she lies in the solo category\n",
    "    data['Solo'] = data['GroupSize'].apply(lambda x: 1 if x==1 else 0)\n",
    "    \n",
    "    # Since Group has a large number of numerical data, we are dividing it into batches (each of 500 groups)\n",
    "    labels = []\n",
    "    for i in range(19):\n",
    "        labels.append('Batch '+str(i))\n",
    "    data['Batch'] = pd.cut(data['Group'], bins=range(0,10000,500), labels=labels)\n",
    "    \n",
    "    return data\n",
    "\n",
    "data = group(data)\n",
    "train = group(train)"
   ]
  },
  {
   "cell_type": "code",
   "execution_count": 15,
   "id": "262dc61f",
   "metadata": {},
   "outputs": [
    {
     "data": {
      "image/png": "[encoded data removed]",
      "text/plain": [
       "<Figure size 432x288 with 1 Axes>"
      ]
     },
     "metadata": {
      "needs_background": "light"
     },
     "output_type": "display_data"
    },
    {
     "name": "stdout",
     "output_type": "stream",
     "text": [
      "Skewness: 0.002020221875908904\n"
     ]
    }
   ],
   "source": [
    "sns.histplot(data=train, x='Group', hue='Transported', kde=True).set(title='Group vs Transported')\n",
    "plt.show()\n",
    "print('Skewness:',train.Group.skew())"
   ]
  },
  {
   "cell_type": "code",
   "execution_count": 16,
   "id": "f4bfe804",
   "metadata": {},
   "outputs": [
    {
     "data": {
      "image/png": "[encoded data removed]",
      "text/plain": [
       "<Figure size 432x288 with 1 Axes>"
      ]
     },
     "metadata": {
      "needs_background": "light"
     },
     "output_type": "display_data"
    },
    {
     "name": "stdout",
     "output_type": "stream",
     "text": [
      "Skewness: 1.8890173008011806\n"
     ]
    }
   ],
   "source": [
    "sns.histplot(data=train, x='GroupSize', hue='Transported', kde=True).set(title='GroupSize vs Transported')\n",
    "plt.show()\n",
    "print('Skewness:',train.GroupSize.skew())"
   ]
  },
  {
   "cell_type": "code",
   "execution_count": 17,
   "id": "055a101e",
   "metadata": {},
   "outputs": [
    {
     "data": {
      "image/png": "[encoded data removed]",
      "text/plain": [
       "<Figure size 432x288 with 1 Axes>"
      ]
     },
     "metadata": {
      "needs_background": "light"
     },
     "output_type": "display_data"
    }
   ],
   "source": [
    "sns.histplot(data=train, x='Solo', hue='Transported').set(title='Solo vs Transported')\n",
    "plt.show()"
   ]
  },
  {
   "cell_type": "code",
   "execution_count": 18,
   "id": "4c1ce711",
   "metadata": {},
   "outputs": [
    {
     "data": {
      "image/png": "[encoded data removed]",
      "text/plain": [
       "<Figure size 360x576 with 1 Axes>"
      ]
     },
     "metadata": {
      "needs_background": "light"
     },
     "output_type": "display_data"
    }
   ],
   "source": [
    "plt.figure(figsize=(5,8))\n",
    "sns.histplot(data=train, y='Batch', hue='Transported', kde=True).set(title='Batch vs Transported')\n",
    "plt.show()"
   ]
  },
  {
   "cell_type": "markdown",
   "id": "9644505e",
   "metadata": {},
   "source": [
    "### Age - Adult Extraction"
   ]
  },
  {
   "cell_type": "code",
   "execution_count": 19,
   "id": "008d13ab",
   "metadata": {},
   "outputs": [],
   "source": [
    "def adult(data):\n",
    "    data['Adult'] = data['Age'].apply(lambda x: 0 if x<18 else 1)\n",
    "    return data\n",
    "\n",
    "data = adult(data)\n",
    "train = adult(train)"
   ]
  },
  {
   "cell_type": "code",
   "execution_count": 20,
   "id": "4ccf97f6",
   "metadata": {},
   "outputs": [
    {
     "data": {
      "image/png": "[encoded data removed]",
      "text/plain": [
       "<Figure size 432x288 with 1 Axes>"
      ]
     },
     "metadata": {
      "needs_background": "light"
     },
     "output_type": "display_data"
    }
   ],
   "source": [
    "sns.histplot(data=train, x='Adult', hue='Transported').set(title='Adult vs Transported')\n",
    "plt.show()"
   ]
  },
  {
   "cell_type": "markdown",
   "id": "2b33240b",
   "metadata": {},
   "source": [
    "### Cabin - Deck/Num/Side Extraction"
   ]
  },
  {
   "cell_type": "code",
   "execution_count": 21,
   "id": "bf2adb21",
   "metadata": {},
   "outputs": [],
   "source": [
    "def cabin(data):\n",
    "    data['Deck'] = data['Cabin'].apply(lambda x: str(x).split('/')[0])\n",
    "    data['Num'] = data['Cabin'].apply(lambda x: int(str(x).split('/')[1]))\n",
    "    data['Side'] = data['Cabin'].apply(lambda x: str(x).split('/')[2])\n",
    "    return data\n",
    "\n",
    "data = cabin(data)\n",
    "train = cabin(train)"
   ]
  },
  {
   "cell_type": "code",
   "execution_count": 22,
   "id": "c1f9d145",
   "metadata": {},
   "outputs": [
    {
     "data": {
      "image/png": "[encoded data removed]",
      "text/plain": [
       "<Figure size 432x288 with 1 Axes>"
      ]
     },
     "metadata": {
      "needs_background": "light"
     },
     "output_type": "display_data"
    }
   ],
   "source": [
    "sns.histplot(data=train, x='Deck', hue='Transported').set(title='Deck vs Transported')\n",
    "plt.show()"
   ]
  },
  {
   "cell_type": "code",
   "execution_count": 23,
   "id": "ef7d01dd",
   "metadata": {},
   "outputs": [],
   "source": [
    "# plt.figure(figsize=(15,250))\n",
    "# sns.histplot(data=train, x='Num', hue='Transported')\n",
    "# plt.show()"
   ]
  },
  {
   "cell_type": "code",
   "execution_count": 24,
   "id": "23607396",
   "metadata": {},
   "outputs": [
    {
     "data": {
      "image/png": "[encoded data removed]",
      "text/plain": [
       "<Figure size 432x288 with 1 Axes>"
      ]
     },
     "metadata": {
      "needs_background": "light"
     },
     "output_type": "display_data"
    }
   ],
   "source": [
    "sns.histplot(data=train, x='Side', hue='Transported').set(title='Side vs Transported')\n",
    "plt.show()"
   ]
  },
  {
   "cell_type": "markdown",
   "id": "62d6ce61",
   "metadata": {},
   "source": [
    "### RoomService/FoodCourt/ShoppingMall/Spa/VRDeck - Expenditure Extraction"
   ]
  },
  {
   "cell_type": "code",
   "execution_count": 25,
   "id": "6a6d5c98",
   "metadata": {},
   "outputs": [],
   "source": [
    "def expenditure(data):\n",
    "    data['Expenditure'] = data['RoomService'] + data['FoodCourt'] + data['ShoppingMall'] + data['Spa'] + data['VRDeck']\n",
    "    return data\n",
    "\n",
    "data = expenditure(data)\n",
    "train = expenditure(train)"
   ]
  },
  {
   "cell_type": "code",
   "execution_count": 26,
   "id": "7884fb6a",
   "metadata": {},
   "outputs": [
    {
     "data": {
      "image/png": "[encoded data removed]",
      "text/plain": [
       "<Figure size 432x288 with 1 Axes>"
      ]
     },
     "metadata": {
      "needs_background": "light"
     },
     "output_type": "display_data"
    },
    {
     "name": "stdout",
     "output_type": "stream",
     "text": [
      "Skewness: 4.417588190022683\n"
     ]
    }
   ],
   "source": [
    "sns.histplot(data=train, x='Expenditure', hue='Transported', kde=True).set(title='Expenditure vs Transported')\n",
    "plt.show()\n",
    "print('Skewness:',train.Expenditure.skew())"
   ]
  },
  {
   "cell_type": "markdown",
   "id": "b165d747",
   "metadata": {},
   "source": [
    "### Expenditure - MoneySpent Extraction"
   ]
  },
  {
   "cell_type": "code",
   "execution_count": 27,
   "id": "726873ad",
   "metadata": {},
   "outputs": [],
   "source": [
    "def moneyspent(data):\n",
    "    data['MoneySpent'] = data['Expenditure'].apply(lambda x: 0 if x==0 else 1)\n",
    "    return data\n",
    "\n",
    "data = moneyspent(data)\n",
    "train = moneyspent(train)"
   ]
  },
  {
   "cell_type": "code",
   "execution_count": 28,
   "id": "f06cfb0e",
   "metadata": {},
   "outputs": [
    {
     "data": {
      "image/png": "[encoded data removed]",
      "text/plain": [
       "<Figure size 432x288 with 1 Axes>"
      ]
     },
     "metadata": {
      "needs_background": "light"
     },
     "output_type": "display_data"
    }
   ],
   "source": [
    "sns.histplot(data=train, x='MoneySpent', hue='Transported').set(title='MoneySpent vs Transported')\n",
    "plt.show()"
   ]
  },
  {
   "cell_type": "markdown",
   "id": "3bbbc7f6",
   "metadata": {},
   "source": [
    "### Name - FamilyName Extraction"
   ]
  },
  {
   "cell_type": "code",
   "execution_count": 29,
   "id": "ca94404e",
   "metadata": {},
   "outputs": [],
   "source": [
    "def name(data):\n",
    "    data['FamilyName'] = data['Name'].apply(lambda x: x.split()[1])\n",
    "    return data\n",
    "\n",
    "data = name(data)\n",
    "train = name(train)"
   ]
  },
  {
   "cell_type": "code",
   "execution_count": 30,
   "id": "94705208",
   "metadata": {},
   "outputs": [],
   "source": [
    "# plt.figure(figsize=(15,250))\n",
    "# sns.histplot(data=train, y='FamilyName', hue='Transported')\n",
    "# plt.show()"
   ]
  },
  {
   "cell_type": "markdown",
   "id": "0738a588",
   "metadata": {},
   "source": [
    "### Removing unwanted features"
   ]
  },
  {
   "cell_type": "code",
   "execution_count": 31,
   "id": "10afe145",
   "metadata": {},
   "outputs": [],
   "source": [
    "# note that some columns are dropped because of their detrimental effect on prediction model found out by trying and testing later on\n",
    "\n",
    "data.drop(columns=['PassengerId','Cabin','VIP','Name','Group','Batch'], inplace=True)"
   ]
  },
  {
   "cell_type": "code",
   "execution_count": 32,
   "id": "fde44110",
   "metadata": {},
   "outputs": [
    {
     "data": {
      "text/html": [
       "<div>\n",
       "<style scoped>\n",
       "    .dataframe tbody tr th:only-of-type {\n",
       "        vertical-align: middle;\n",
       "    }\n",
       "\n",
       "    .dataframe tbody tr th {\n",
       "        vertical-align: top;\n",
       "    }\n",
       "\n",
       "    .dataframe thead th {\n",
       "        text-align: right;\n",
       "    }\n",
       "</style>\n",
       "<table border=\"1\" class=\"dataframe\">\n",
       "  <thead>\n",
       "    <tr style=\"text-align: right;\">\n",
       "      <th></th>\n",
       "      <th>HomePlanet</th>\n",
       "      <th>CryoSleep</th>\n",
       "      <th>Destination</th>\n",
       "      <th>Age</th>\n",
       "      <th>RoomService</th>\n",
       "      <th>FoodCourt</th>\n",
       "      <th>ShoppingMall</th>\n",
       "      <th>Spa</th>\n",
       "      <th>VRDeck</th>\n",
       "      <th>GroupSize</th>\n",
       "      <th>Solo</th>\n",
       "      <th>Adult</th>\n",
       "      <th>Deck</th>\n",
       "      <th>Num</th>\n",
       "      <th>Side</th>\n",
       "      <th>Expenditure</th>\n",
       "      <th>MoneySpent</th>\n",
       "      <th>FamilyName</th>\n",
       "    </tr>\n",
       "  </thead>\n",
       "  <tbody>\n",
       "    <tr>\n",
       "      <th>0</th>\n",
       "      <td>Europa</td>\n",
       "      <td>0</td>\n",
       "      <td>TRAPPIST-1e</td>\n",
       "      <td>39.0</td>\n",
       "      <td>0.0</td>\n",
       "      <td>0.0</td>\n",
       "      <td>0.0</td>\n",
       "      <td>0.0</td>\n",
       "      <td>0.0</td>\n",
       "      <td>1</td>\n",
       "      <td>1</td>\n",
       "      <td>1</td>\n",
       "      <td>B</td>\n",
       "      <td>0</td>\n",
       "      <td>P</td>\n",
       "      <td>0.0</td>\n",
       "      <td>0</td>\n",
       "      <td>Ofracculy</td>\n",
       "    </tr>\n",
       "    <tr>\n",
       "      <th>1</th>\n",
       "      <td>Earth</td>\n",
       "      <td>0</td>\n",
       "      <td>TRAPPIST-1e</td>\n",
       "      <td>24.0</td>\n",
       "      <td>109.0</td>\n",
       "      <td>9.0</td>\n",
       "      <td>25.0</td>\n",
       "      <td>549.0</td>\n",
       "      <td>44.0</td>\n",
       "      <td>1</td>\n",
       "      <td>1</td>\n",
       "      <td>1</td>\n",
       "      <td>F</td>\n",
       "      <td>0</td>\n",
       "      <td>S</td>\n",
       "      <td>736.0</td>\n",
       "      <td>1</td>\n",
       "      <td>Vines</td>\n",
       "    </tr>\n",
       "    <tr>\n",
       "      <th>2</th>\n",
       "      <td>Europa</td>\n",
       "      <td>0</td>\n",
       "      <td>TRAPPIST-1e</td>\n",
       "      <td>58.0</td>\n",
       "      <td>43.0</td>\n",
       "      <td>3576.0</td>\n",
       "      <td>0.0</td>\n",
       "      <td>6715.0</td>\n",
       "      <td>49.0</td>\n",
       "      <td>2</td>\n",
       "      <td>0</td>\n",
       "      <td>1</td>\n",
       "      <td>A</td>\n",
       "      <td>0</td>\n",
       "      <td>S</td>\n",
       "      <td>10383.0</td>\n",
       "      <td>1</td>\n",
       "      <td>Susent</td>\n",
       "    </tr>\n",
       "    <tr>\n",
       "      <th>3</th>\n",
       "      <td>Europa</td>\n",
       "      <td>0</td>\n",
       "      <td>TRAPPIST-1e</td>\n",
       "      <td>33.0</td>\n",
       "      <td>0.0</td>\n",
       "      <td>1283.0</td>\n",
       "      <td>371.0</td>\n",
       "      <td>3329.0</td>\n",
       "      <td>193.0</td>\n",
       "      <td>2</td>\n",
       "      <td>0</td>\n",
       "      <td>1</td>\n",
       "      <td>A</td>\n",
       "      <td>0</td>\n",
       "      <td>S</td>\n",
       "      <td>5176.0</td>\n",
       "      <td>1</td>\n",
       "      <td>Susent</td>\n",
       "    </tr>\n",
       "    <tr>\n",
       "      <th>4</th>\n",
       "      <td>Earth</td>\n",
       "      <td>0</td>\n",
       "      <td>TRAPPIST-1e</td>\n",
       "      <td>16.0</td>\n",
       "      <td>303.0</td>\n",
       "      <td>70.0</td>\n",
       "      <td>151.0</td>\n",
       "      <td>565.0</td>\n",
       "      <td>2.0</td>\n",
       "      <td>1</td>\n",
       "      <td>1</td>\n",
       "      <td>0</td>\n",
       "      <td>F</td>\n",
       "      <td>1</td>\n",
       "      <td>S</td>\n",
       "      <td>1091.0</td>\n",
       "      <td>1</td>\n",
       "      <td>Santantines</td>\n",
       "    </tr>\n",
       "  </tbody>\n",
       "</table>\n",
       "</div>"
      ],
      "text/plain": [
       "  HomePlanet  CryoSleep  Destination   Age  RoomService  FoodCourt  \\\n",
       "0     Europa          0  TRAPPIST-1e  39.0          0.0        0.0   \n",
       "1      Earth          0  TRAPPIST-1e  24.0        109.0        9.0   \n",
       "2     Europa          0  TRAPPIST-1e  58.0         43.0     3576.0   \n",
       "3     Europa          0  TRAPPIST-1e  33.0          0.0     1283.0   \n",
       "4      Earth          0  TRAPPIST-1e  16.0        303.0       70.0   \n",
       "\n",
       "   ShoppingMall     Spa  VRDeck  GroupSize  Solo  Adult Deck  Num Side  \\\n",
       "0           0.0     0.0     0.0          1     1      1    B    0    P   \n",
       "1          25.0   549.0    44.0          1     1      1    F    0    S   \n",
       "2           0.0  6715.0    49.0          2     0      1    A    0    S   \n",
       "3         371.0  3329.0   193.0          2     0      1    A    0    S   \n",
       "4         151.0   565.0     2.0          1     1      0    F    1    S   \n",
       "\n",
       "   Expenditure  MoneySpent   FamilyName  \n",
       "0          0.0           0    Ofracculy  \n",
       "1        736.0           1        Vines  \n",
       "2      10383.0           1       Susent  \n",
       "3       5176.0           1       Susent  \n",
       "4       1091.0           1  Santantines  "
      ]
     },
     "execution_count": 32,
     "metadata": {},
     "output_type": "execute_result"
    }
   ],
   "source": [
    "data.head()"
   ]
  },
  {
   "cell_type": "markdown",
   "id": "c5b1c7b5",
   "metadata": {},
   "source": [
    "## Numerical Data Handling"
   ]
  },
  {
   "cell_type": "code",
   "execution_count": 33,
   "id": "3b1bdccb",
   "metadata": {},
   "outputs": [],
   "source": [
    "def expenditure(data):\n",
    "    data['Expenditure'] = np.log(1 + data['Expenditure'])\n",
    "    return data\n",
    "\n",
    "data = expenditure(data)\n",
    "train = expenditure(train)"
   ]
  },
  {
   "cell_type": "code",
   "execution_count": 34,
   "id": "cfb2deb8",
   "metadata": {},
   "outputs": [
    {
     "data": {
      "image/png": "[encoded data removed]",
      "text/plain": [
       "<Figure size 432x288 with 1 Axes>"
      ]
     },
     "metadata": {
      "needs_background": "light"
     },
     "output_type": "display_data"
    },
    {
     "name": "stdout",
     "output_type": "stream",
     "text": [
      "Skewness: -0.21243546508152034\n"
     ]
    }
   ],
   "source": [
    "sns.histplot(data=train, x='Expenditure', hue='Transported', kde=True)\n",
    "plt.show()\n",
    "print('Skewness:',train.Expenditure.skew())"
   ]
  },
  {
   "cell_type": "markdown",
   "id": "577b0c8d",
   "metadata": {},
   "source": [
    "## Categorical Data Handling"
   ]
  },
  {
   "cell_type": "code",
   "execution_count": 35,
   "id": "76b4d36a",
   "metadata": {},
   "outputs": [],
   "source": [
    "from sklearn.preprocessing import LabelEncoder\n",
    "\n",
    "def lenc(data, cols):\n",
    "    lc = LabelEncoder()\n",
    "    for i in cols:\n",
    "        data[i] = lc.fit_transform(data[i])\n",
    "    return data\n",
    "\n",
    "data = lenc(data, ['FamilyName'])"
   ]
  },
  {
   "cell_type": "code",
   "execution_count": 36,
   "id": "bc4c26b6",
   "metadata": {},
   "outputs": [
    {
     "data": {
      "text/plain": [
       "1830      1\n",
       "355       1\n",
       "1615      1\n",
       "760       1\n",
       "2156      1\n",
       "       ... \n",
       "1073     18\n",
       "385      18\n",
       "293      19\n",
       "170      19\n",
       "1500    294\n",
       "Name: FamilyName, Length: 2407, dtype: int64"
      ]
     },
     "execution_count": 36,
     "metadata": {},
     "output_type": "execute_result"
    }
   ],
   "source": [
    "data.FamilyName.value_counts().sort_values()"
   ]
  },
  {
   "cell_type": "code",
   "execution_count": 37,
   "id": "99094548",
   "metadata": {},
   "outputs": [],
   "source": [
    "data = pd.get_dummies(data)"
   ]
  },
  {
   "cell_type": "code",
   "execution_count": 38,
   "id": "360a0151",
   "metadata": {},
   "outputs": [
    {
     "data": {
      "text/html": [
       "<div>\n",
       "<style scoped>\n",
       "    .dataframe tbody tr th:only-of-type {\n",
       "        vertical-align: middle;\n",
       "    }\n",
       "\n",
       "    .dataframe tbody tr th {\n",
       "        vertical-align: top;\n",
       "    }\n",
       "\n",
       "    .dataframe thead th {\n",
       "        text-align: right;\n",
       "    }\n",
       "</style>\n",
       "<table border=\"1\" class=\"dataframe\">\n",
       "  <thead>\n",
       "    <tr style=\"text-align: right;\">\n",
       "      <th></th>\n",
       "      <th>CryoSleep</th>\n",
       "      <th>Age</th>\n",
       "      <th>RoomService</th>\n",
       "      <th>FoodCourt</th>\n",
       "      <th>ShoppingMall</th>\n",
       "      <th>Spa</th>\n",
       "      <th>VRDeck</th>\n",
       "      <th>GroupSize</th>\n",
       "      <th>Solo</th>\n",
       "      <th>Adult</th>\n",
       "      <th>...</th>\n",
       "      <th>Deck_C</th>\n",
       "      <th>Deck_D</th>\n",
       "      <th>Deck_E</th>\n",
       "      <th>Deck_F</th>\n",
       "      <th>Deck_G</th>\n",
       "      <th>Deck_None</th>\n",
       "      <th>Deck_T</th>\n",
       "      <th>Side_None</th>\n",
       "      <th>Side_P</th>\n",
       "      <th>Side_S</th>\n",
       "    </tr>\n",
       "  </thead>\n",
       "  <tbody>\n",
       "    <tr>\n",
       "      <th>0</th>\n",
       "      <td>0</td>\n",
       "      <td>39.0</td>\n",
       "      <td>0.0</td>\n",
       "      <td>0.0</td>\n",
       "      <td>0.0</td>\n",
       "      <td>0.0</td>\n",
       "      <td>0.0</td>\n",
       "      <td>1</td>\n",
       "      <td>1</td>\n",
       "      <td>1</td>\n",
       "      <td>...</td>\n",
       "      <td>0</td>\n",
       "      <td>0</td>\n",
       "      <td>0</td>\n",
       "      <td>0</td>\n",
       "      <td>0</td>\n",
       "      <td>0</td>\n",
       "      <td>0</td>\n",
       "      <td>0</td>\n",
       "      <td>1</td>\n",
       "      <td>0</td>\n",
       "    </tr>\n",
       "    <tr>\n",
       "      <th>1</th>\n",
       "      <td>0</td>\n",
       "      <td>24.0</td>\n",
       "      <td>109.0</td>\n",
       "      <td>9.0</td>\n",
       "      <td>25.0</td>\n",
       "      <td>549.0</td>\n",
       "      <td>44.0</td>\n",
       "      <td>1</td>\n",
       "      <td>1</td>\n",
       "      <td>1</td>\n",
       "      <td>...</td>\n",
       "      <td>0</td>\n",
       "      <td>0</td>\n",
       "      <td>0</td>\n",
       "      <td>1</td>\n",
       "      <td>0</td>\n",
       "      <td>0</td>\n",
       "      <td>0</td>\n",
       "      <td>0</td>\n",
       "      <td>0</td>\n",
       "      <td>1</td>\n",
       "    </tr>\n",
       "    <tr>\n",
       "      <th>2</th>\n",
       "      <td>0</td>\n",
       "      <td>58.0</td>\n",
       "      <td>43.0</td>\n",
       "      <td>3576.0</td>\n",
       "      <td>0.0</td>\n",
       "      <td>6715.0</td>\n",
       "      <td>49.0</td>\n",
       "      <td>2</td>\n",
       "      <td>0</td>\n",
       "      <td>1</td>\n",
       "      <td>...</td>\n",
       "      <td>0</td>\n",
       "      <td>0</td>\n",
       "      <td>0</td>\n",
       "      <td>0</td>\n",
       "      <td>0</td>\n",
       "      <td>0</td>\n",
       "      <td>0</td>\n",
       "      <td>0</td>\n",
       "      <td>0</td>\n",
       "      <td>1</td>\n",
       "    </tr>\n",
       "    <tr>\n",
       "      <th>3</th>\n",
       "      <td>0</td>\n",
       "      <td>33.0</td>\n",
       "      <td>0.0</td>\n",
       "      <td>1283.0</td>\n",
       "      <td>371.0</td>\n",
       "      <td>3329.0</td>\n",
       "      <td>193.0</td>\n",
       "      <td>2</td>\n",
       "      <td>0</td>\n",
       "      <td>1</td>\n",
       "      <td>...</td>\n",
       "      <td>0</td>\n",
       "      <td>0</td>\n",
       "      <td>0</td>\n",
       "      <td>0</td>\n",
       "      <td>0</td>\n",
       "      <td>0</td>\n",
       "      <td>0</td>\n",
       "      <td>0</td>\n",
       "      <td>0</td>\n",
       "      <td>1</td>\n",
       "    </tr>\n",
       "    <tr>\n",
       "      <th>4</th>\n",
       "      <td>0</td>\n",
       "      <td>16.0</td>\n",
       "      <td>303.0</td>\n",
       "      <td>70.0</td>\n",
       "      <td>151.0</td>\n",
       "      <td>565.0</td>\n",
       "      <td>2.0</td>\n",
       "      <td>1</td>\n",
       "      <td>1</td>\n",
       "      <td>0</td>\n",
       "      <td>...</td>\n",
       "      <td>0</td>\n",
       "      <td>0</td>\n",
       "      <td>0</td>\n",
       "      <td>1</td>\n",
       "      <td>0</td>\n",
       "      <td>0</td>\n",
       "      <td>0</td>\n",
       "      <td>0</td>\n",
       "      <td>0</td>\n",
       "      <td>1</td>\n",
       "    </tr>\n",
       "  </tbody>\n",
       "</table>\n",
       "<p>5 rows × 32 columns</p>\n",
       "</div>"
      ],
      "text/plain": [
       "   CryoSleep   Age  RoomService  FoodCourt  ShoppingMall     Spa  VRDeck  \\\n",
       "0          0  39.0          0.0        0.0           0.0     0.0     0.0   \n",
       "1          0  24.0        109.0        9.0          25.0   549.0    44.0   \n",
       "2          0  58.0         43.0     3576.0           0.0  6715.0    49.0   \n",
       "3          0  33.0          0.0     1283.0         371.0  3329.0   193.0   \n",
       "4          0  16.0        303.0       70.0         151.0   565.0     2.0   \n",
       "\n",
       "   GroupSize  Solo  Adult  ...  Deck_C  Deck_D  Deck_E  Deck_F  Deck_G  \\\n",
       "0          1     1      1  ...       0       0       0       0       0   \n",
       "1          1     1      1  ...       0       0       0       1       0   \n",
       "2          2     0      1  ...       0       0       0       0       0   \n",
       "3          2     0      1  ...       0       0       0       0       0   \n",
       "4          1     1      0  ...       0       0       0       1       0   \n",
       "\n",
       "   Deck_None  Deck_T  Side_None  Side_P  Side_S  \n",
       "0          0       0          0       1       0  \n",
       "1          0       0          0       0       1  \n",
       "2          0       0          0       0       1  \n",
       "3          0       0          0       0       1  \n",
       "4          0       0          0       0       1  \n",
       "\n",
       "[5 rows x 32 columns]"
      ]
     },
     "execution_count": 38,
     "metadata": {},
     "output_type": "execute_result"
    }
   ],
   "source": [
    "data.head()"
   ]
  },
  {
   "cell_type": "code",
   "execution_count": 39,
   "id": "d409c2b3",
   "metadata": {},
   "outputs": [],
   "source": [
    "# print(data.columns.to_list())"
   ]
  },
  {
   "cell_type": "markdown",
   "id": "044aac42",
   "metadata": {},
   "source": [
    "### Data Breakdown"
   ]
  },
  {
   "cell_type": "code",
   "execution_count": 40,
   "id": "25ff8b20",
   "metadata": {},
   "outputs": [],
   "source": [
    "train = data[:len(train)].copy()\n",
    "train['Transported'] = transported"
   ]
  },
  {
   "cell_type": "code",
   "execution_count": 41,
   "id": "4546d59b",
   "metadata": {},
   "outputs": [],
   "source": [
    "test = data[len(train):].copy()"
   ]
  },
  {
   "cell_type": "markdown",
   "id": "9a83d969",
   "metadata": {},
   "source": [
    "## Model Analysis"
   ]
  },
  {
   "cell_type": "code",
   "execution_count": 42,
   "id": "3194731d",
   "metadata": {},
   "outputs": [],
   "source": [
    "from sklearn.model_selection import train_test_split\n",
    "\n",
    "X = train.drop(columns=['Transported'])\n",
    "y = train.Transported\n",
    "\n",
    "X_train, X_test, y_train, y_test = train_test_split(X, y, test_size=0.2, random_state=42)"
   ]
  },
  {
   "cell_type": "code",
   "execution_count": 43,
   "id": "2a6d0590",
   "metadata": {},
   "outputs": [],
   "source": [
    "from sklearn.ensemble import RandomForestClassifier\n",
    "\n",
    "rf = RandomForestClassifier(n_estimators=1000, random_state=42)\n",
    "rf.fit(X_train, y_train)\n",
    "pred = rf.predict(X_test)"
   ]
  },
  {
   "cell_type": "code",
   "execution_count": 44,
   "id": "00863d02",
   "metadata": {},
   "outputs": [
    {
     "data": {
      "text/plain": [
       "0.7964347326049454"
      ]
     },
     "execution_count": 44,
     "metadata": {},
     "output_type": "execute_result"
    }
   ],
   "source": [
    "from sklearn.metrics import accuracy_score\n",
    "\n",
    "accuracy_score(y_test, pred)"
   ]
  },
  {
   "cell_type": "code",
   "execution_count": 45,
   "id": "25281e06",
   "metadata": {},
   "outputs": [
    {
     "name": "stderr",
     "output_type": "stream",
     "text": [
      "C:\\ProgramData\\Anaconda3\\lib\\site-packages\\xgboost\\sklearn.py:1224: UserWarning: The use of label encoder in XGBClassifier is deprecated and will be removed in a future release. To remove this warning, do the following: 1) Pass option use_label_encoder=False when constructing XGBClassifier object; and 2) Encode your labels (y) as integers starting with 0, i.e. 0, 1, 2, ..., [num_class - 1].\n",
      "  warnings.warn(label_encoder_deprecation_msg, UserWarning)\n"
     ]
    },
    {
     "name": "stdout",
     "output_type": "stream",
     "text": [
      "[14:51:52] WARNING: ..\\src\\learner.cc:1115: Starting in XGBoost 1.3.0, the default evaluation metric used with the objective 'binary:logistic' was changed from 'error' to 'logloss'. Explicitly set eval_metric if you'd like to restore the old behavior.\n"
     ]
    }
   ],
   "source": [
    "from xgboost import XGBClassifier\n",
    "\n",
    "xgb = XGBClassifier(learning_rate=0.2, random_state=42)\n",
    "xgb.fit(X_train, y_train)\n",
    "pred = xgb.predict(X_test)"
   ]
  },
  {
   "cell_type": "code",
   "execution_count": 46,
   "id": "4f3dbe8f",
   "metadata": {},
   "outputs": [
    {
     "data": {
      "text/plain": [
       "0.7981598619896493"
      ]
     },
     "execution_count": 46,
     "metadata": {},
     "output_type": "execute_result"
    }
   ],
   "source": [
    "accuracy_score(y_test, pred)"
   ]
  },
  {
   "cell_type": "markdown",
   "id": "328b1bf4",
   "metadata": {},
   "source": [
    "Max accuracy score: **0.8033352501437608**"
   ]
  },
  {
   "cell_type": "code",
   "execution_count": 47,
   "id": "89e7e819",
   "metadata": {},
   "outputs": [],
   "source": [
    "from lightgbm import LGBMClassifier\n",
    "\n",
    "lgb = LGBMClassifier(learning_rate=0.1, random_state=42)\n",
    "lgb.fit(X_train, y_train)\n",
    "pred = lgb.predict(X_test)"
   ]
  },
  {
   "cell_type": "code",
   "execution_count": 48,
   "id": "6e6da743",
   "metadata": {},
   "outputs": [
    {
     "data": {
      "text/plain": [
       "0.8096607245543416"
      ]
     },
     "execution_count": 48,
     "metadata": {},
     "output_type": "execute_result"
    }
   ],
   "source": [
    "accuracy_score(y_test, pred)"
   ]
  },
  {
   "cell_type": "markdown",
   "id": "88e73b3f",
   "metadata": {},
   "source": [
    "Max accuracy score: **0.8096607245543416**"
   ]
  },
  {
   "cell_type": "markdown",
   "id": "a09ce4a2",
   "metadata": {},
   "source": [
    "## Making Predictions"
   ]
  },
  {
   "cell_type": "code",
   "execution_count": 49,
   "id": "e3137774",
   "metadata": {},
   "outputs": [],
   "source": [
    "X = train.drop(columns=['Transported'])\n",
    "y = train.Transported"
   ]
  },
  {
   "cell_type": "code",
   "execution_count": 50,
   "id": "a7d2a049",
   "metadata": {},
   "outputs": [],
   "source": [
    "lgb.fit(X, y)\n",
    "pred = lgb.predict(test)"
   ]
  },
  {
   "cell_type": "code",
   "execution_count": 51,
   "id": "ed9cdef2",
   "metadata": {},
   "outputs": [
    {
     "name": "stdout",
     "output_type": "stream",
     "text": [
      "Predictions saved to submit.csv\n"
     ]
    }
   ],
   "source": [
    "submit = pd.DataFrame()\n",
    "submit['PassengerId'] = test_id\n",
    "submit['Transported'] = pred\n",
    "submit['Transported'] = submit['Transported'].apply(lambda x: 'True' if x==1 else 'False')\n",
    "\n",
    "submit.to_csv('submit.csv', index=False)\n",
    "print('Predictions saved to submit.csv')"
   ]
  },
  {
   "cell_type": "code",
   "execution_count": 52,
   "id": "bbabdc90",
   "metadata": {},
   "outputs": [
    {
     "data": {
      "text/plain": [
       "<AxesSubplot:xlabel='Transported', ylabel='count'>"
      ]
     },
     "execution_count": 52,
     "metadata": {},
     "output_type": "execute_result"
    },
    {
     "data": {
      "image/png": "[encoded data removed]",
      "text/plain": [
       "<Figure size 432x288 with 1 Axes>"
      ]
     },
     "metadata": {
      "needs_background": "light"
     },
     "output_type": "display_data"
    }
   ],
   "source": [
    "sns.countplot(data=submit, x='Transported')"
   ]
  }
 ],
 "metadata": {
  "kernelspec": {
   "display_name": "Python 3 (ipykernel)",
   "language": "python",
   "name": "python3"
  },
  "language_info": {
   "codemirror_mode": {
    "name": "ipython",
    "version": 3
   },
   "file_extension": ".py",
   "mimetype": "text/x-python",
   "name": "python",
   "nbconvert_exporter": "python",
   "pygments_lexer": "ipython3",
   "version": "3.9.7"
  }
 },
 "nbformat": 4,
 "nbformat_minor": 5
}
